{
 "cells": [
  {
   "cell_type": "markdown",
   "metadata": {},
   "source": [
    "Markdown cell for User Personas and Product Features\n",
    "- The biggest contributors to user satisfaction based on OLS_User_Satisfaction.ipynb was the price of the device and the brand it came from.\n",
    "- Our focus now will be to come up with user personas and product features that can reduce price and bolster brand reputation."
   ]
  },
  {
   "cell_type": "markdown",
   "metadata": {},
   "source": []
  }
 ],
 "metadata": {
  "language_info": {
   "name": "python"
  }
 },
 "nbformat": 4,
 "nbformat_minor": 2
}
